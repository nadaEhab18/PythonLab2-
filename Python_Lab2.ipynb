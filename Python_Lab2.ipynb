{
  "nbformat": 4,
  "nbformat_minor": 0,
  "metadata": {
    "colab": {
      "provenance": []
    },
    "kernelspec": {
      "name": "python3",
      "display_name": "Python 3"
    },
    "language_info": {
      "name": "python"
    }
  },
  "cells": [
    {
      "cell_type": "code",
      "execution_count": null,
      "metadata": {
        "colab": {
          "base_uri": "https://localhost:8080/"
        },
        "id": "S0QgVPWG1_NT",
        "outputId": "c7664430-b48c-46a8-d162-b541a95f415b"
      },
      "outputs": [
        {
          "output_type": "stream",
          "name": "stdout",
          "text": [
            "I love Programming. Programming is fun!\n",
            "2\n",
            "True\n"
          ]
        }
      ],
      "source": [
        "#Replace the word \"Python\" with \"Programming\"\n",
        "s1=\"I love Python. Python is fun!\"\n",
        "res1=s1.replace('Python','Programming')\n",
        "print(res1)\n",
        "\n",
        "#Count the word \"fox\"\n",
        "s2=\"The quick brown fox jumps over the lazy dog. The fox is clever!\"\n",
        "res2=s2.count('fox')\n",
        "print(res2)\n",
        "\n",
        "# #Check if the string starts with \"Python\" word or not.\n",
        "s3=\"Python programming is fun!\"\n",
        "res3=s3.startswith('Python')\n",
        "print(res3)\n"
      ]
    },
    {
      "cell_type": "code",
      "source": [
        "age = 12\n",
        "if age == 12:\n",
        "  print(f'your age is {age}')\n",
        "  print('your age is'+ str(age))\n",
        "else :\n",
        "   print('your age is small')"
      ],
      "metadata": {
        "colab": {
          "base_uri": "https://localhost:8080/"
        },
        "id": "ftnxq7YtUxcY",
        "outputId": "30278161-2d31-4c5c-ade5-9dad4ef56353"
      },
      "execution_count": null,
      "outputs": [
        {
          "output_type": "stream",
          "name": "stdout",
          "text": [
            "your age is 12\n",
            "your age is12\n"
          ]
        }
      ]
    },
    {
      "cell_type": "code",
      "source": [
        "total = 0\n",
        "for num in range(101):\n",
        "  total = total + num\n",
        "print(total)"
      ],
      "metadata": {
        "colab": {
          "base_uri": "https://localhost:8080/"
        },
        "id": "8fVxuCEvYmhd",
        "outputId": "66a854aa-006e-41f7-865d-bb4caabbcb46"
      },
      "execution_count": null,
      "outputs": [
        {
          "output_type": "stream",
          "name": "stdout",
          "text": [
            "5050\n"
          ]
        }
      ]
    },
    {
      "cell_type": "code",
      "source": [
        "for i in range(5,-1):\n",
        "  print(i)"
      ],
      "metadata": {
        "id": "HpMXL-iTZje2"
      },
      "execution_count": null,
      "outputs": []
    },
    {
      "cell_type": "code",
      "source": [
        "prompt = '/nhhhhh'\n"
      ],
      "metadata": {
        "id": "HJB5nkcpfj61"
      },
      "execution_count": null,
      "outputs": []
    },
    {
      "cell_type": "code",
      "source": [
        "num1 = int(input('please Enter First Number :'))\n",
        "num2 = int(input('please Enter Second Number :'))\n",
        "opration = input('Please Enter Opration : ')\n",
        "\n",
        "if(opration == 'add') :\n",
        " print(f\"{num1} + {num2} = {num1+num2}\")\n",
        "elif (opration == 'sub') :\n",
        " print(f\"{num1} - {num2} = {num1-num2}\")\n",
        "elif (opration == 'multiply'):\n",
        " print(f\"{num1} * {num2} = {num1*num2}\")\n",
        "else :\n",
        "  print('Invaild Opration')"
      ],
      "metadata": {
        "colab": {
          "base_uri": "https://localhost:8080/"
        },
        "id": "sFK4y4IOxdq8",
        "outputId": "f1f61bc1-68cc-4e99-bb1c-60da6f320d2f"
      },
      "execution_count": null,
      "outputs": [
        {
          "output_type": "stream",
          "name": "stdout",
          "text": [
            "please Enter First Number :1\n",
            "please Enter Second Number :3\n",
            "Please Enter Opration : multiply\n",
            "1 * 3 = 3\n"
          ]
        }
      ]
    },
    {
      "cell_type": "code",
      "source": [
        "Hourlywage= float(input('Enter Your Hourly Wage : '))\n",
        "Hoursworked = float(input('Enter Your Hours worked : '))\n",
        "DayOfWeek = input('Enter Your Day Of Week : ')\n",
        "if(DayOfWeek == 'Sunday') :\n",
        "  print(f\"Daily wages : {Hourlywage * Hoursworked * 2}\")\n",
        "else :\n",
        "  print(f\"Daily wages : {Hourlywage * Hoursworked}\")\n"
      ],
      "metadata": {
        "colab": {
          "base_uri": "https://localhost:8080/"
        },
        "id": "lnCj3SIixd23",
        "outputId": "158fdb19-8085-426c-ae0d-dce17207f37e"
      },
      "execution_count": null,
      "outputs": [
        {
          "output_type": "stream",
          "name": "stdout",
          "text": [
            "Enter Your Hourly Wage : 12.5\n",
            "Enter Your Hours worked : 10\n",
            "Enter Your Day Of Week : Sunday\n",
            "Daily wages : 250.0\n"
          ]
        }
      ]
    },
    {
      "cell_type": "code",
      "source": [
        "# Fix the program\n",
        "points = int(input(\"How many points are on your card? \"))\n",
        "original_points = points\n",
        "\n",
        "if original_points < 100:\n",
        "    points *= 1.1\n",
        "    print(\"Your bonus is 10 %\")\n",
        "\n",
        "if original_points >= 100:\n",
        "    points *= 1.15\n",
        "    print(\"Your bonus is 15 %\")\n",
        "    print(\"You now have\", points, \"points\")"
      ],
      "metadata": {
        "colab": {
          "base_uri": "https://localhost:8080/"
        },
        "id": "pRvauKOqxd5b",
        "outputId": "337f5637-3750-45fb-aac4-baaa6342eb89"
      },
      "execution_count": null,
      "outputs": [
        {
          "output_type": "stream",
          "name": "stdout",
          "text": [
            "How many points are on your card? 95\n",
            "Your bonus is 10 %\n"
          ]
        }
      ]
    },
    {
      "cell_type": "code",
      "source": [
        "Number = int(input('Please Enter Number : '))\n",
        "if(Number % 3 == 0 and Number % 5 == 0):\n",
        "  print('FizzBuzz')\n",
        "elif(Number % 3 == 0):\n",
        "  print('Fizz')\n",
        "elif(Number % 5 == 0):\n",
        "  print('Buzz')\n",
        "else:\n",
        "  print('Invaild Escope Number ')"
      ],
      "metadata": {
        "colab": {
          "base_uri": "https://localhost:8080/"
        },
        "id": "wt76xDOdxd73",
        "outputId": "4d2b106b-020f-43c9-9816-1a725cf68ccf"
      },
      "execution_count": null,
      "outputs": [
        {
          "output_type": "stream",
          "name": "stdout",
          "text": [
            "Please Enter Number : 45\n",
            "FizzBuzz\n"
          ]
        }
      ]
    },
    {
      "cell_type": "code",
      "source": [
        "PIN = int(input('Please Enter Your PIN : '))\n",
        "PIN_Code = 4321\n",
        "counter = 0\n",
        "\n",
        "if(PIN == PIN_Code and counter == 0 ) :\n",
        "   print('Correct! It only took you one single attempt!')\n",
        "while(PIN != PIN_Code) :\n",
        "  print('Wrong')\n",
        "  counter +=1\n",
        "  PIN = int(input('Please Enter Your PIN : '))\n",
        "print(f'Correct! It took you {counter} attempts')\n",
        "\n",
        "\n",
        "\n"
      ],
      "metadata": {
        "colab": {
          "base_uri": "https://localhost:8080/"
        },
        "id": "tAXED6uZxd-2",
        "outputId": "371e1a59-efa3-4f79-9c49-ce16f7fc77b8"
      },
      "execution_count": null,
      "outputs": [
        {
          "output_type": "stream",
          "name": "stdout",
          "text": [
            "Please Enter Your PIN : 1111\n",
            "Wrong\n",
            "Please Enter Your PIN : 1111\n",
            "Wrong\n",
            "Please Enter Your PIN : 4321\n",
            "Correct! It took you 2 attempts\n"
          ]
        }
      ]
    },
    {
      "cell_type": "code",
      "source": [
        "for i in range (-10 , 0 , 1) :\n",
        "  print(i)\n"
      ],
      "metadata": {
        "colab": {
          "base_uri": "https://localhost:8080/"
        },
        "id": "S_BCgy6MxeBP",
        "outputId": "5fdcc4d8-cefc-4d08-8001-3c73c6a45136"
      },
      "execution_count": null,
      "outputs": [
        {
          "output_type": "stream",
          "name": "stdout",
          "text": [
            "-10\n",
            "-9\n",
            "-8\n",
            "-7\n",
            "-6\n",
            "-5\n",
            "-4\n",
            "-3\n",
            "-2\n",
            "-1\n"
          ]
        }
      ]
    },
    {
      "cell_type": "code",
      "source": [
        "num = 76542\n",
        "reversed_num = 0\n",
        "while (num > 0):\n",
        "  lastNum = num % 10\n",
        "  reversed_num = reversed_num * 10 + lastNum\n",
        "  num = num // 10\n",
        "print(f'Reversed Number is : {reversed_num}')"
      ],
      "metadata": {
        "colab": {
          "base_uri": "https://localhost:8080/"
        },
        "id": "kPy1T0vlxeD8",
        "outputId": "d65dfec6-05ef-4c9c-fea2-9c804a8e45c2"
      },
      "execution_count": null,
      "outputs": [
        {
          "output_type": "stream",
          "name": "stdout",
          "text": [
            "Reversed Number is : 24567\n"
          ]
        }
      ]
    },
    {
      "cell_type": "code",
      "source": [],
      "metadata": {
        "id": "w0MsqsgvxeHS"
      },
      "execution_count": null,
      "outputs": []
    },
    {
      "cell_type": "code",
      "source": [],
      "metadata": {
        "id": "HZvy2UCFxeQE"
      },
      "execution_count": null,
      "outputs": []
    }
  ]
}